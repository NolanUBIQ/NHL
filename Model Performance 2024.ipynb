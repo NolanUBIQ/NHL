{
 "cells": [
  {
   "cell_type": "code",
   "execution_count": 1,
   "id": "ad9df5f4-8d35-482b-ba5c-06a97eb665fc",
   "metadata": {},
   "outputs": [],
   "source": [
    "import pandas as pd\n",
    "import numpy as np "
   ]
  },
  {
   "cell_type": "code",
   "execution_count": 3,
   "id": "6e4e64fe-c16a-4e22-b4f3-4f284c370a61",
   "metadata": {},
   "outputs": [
    {
     "name": "stdout",
     "output_type": "stream",
     "text": [
      "D:\\NHL\\Model Performance\\2024\n"
     ]
    }
   ],
   "source": [
    "cd D:\\NHL\\Model Performance\\2024"
   ]
  },
  {
   "cell_type": "code",
   "execution_count": 11,
   "id": "08608413-0e51-46a9-a619-7a55a7f9f1c0",
   "metadata": {},
   "outputs": [
    {
     "data": {
      "text/html": [
       "<div>\n",
       "<style scoped>\n",
       "    .dataframe tbody tr th:only-of-type {\n",
       "        vertical-align: middle;\n",
       "    }\n",
       "\n",
       "    .dataframe tbody tr th {\n",
       "        vertical-align: top;\n",
       "    }\n",
       "\n",
       "    .dataframe thead th {\n",
       "        text-align: right;\n",
       "    }\n",
       "</style>\n",
       "<table border=\"1\" class=\"dataframe\">\n",
       "  <thead>\n",
       "    <tr style=\"text-align: right;\">\n",
       "      <th></th>\n",
       "      <th>game-ID</th>\n",
       "      <th>home_goalie</th>\n",
       "      <th>away_goalie</th>\n",
       "      <th>neutral</th>\n",
       "      <th>home_win_prob</th>\n",
       "      <th>home_lossesless15</th>\n",
       "      <th>home_winsmore15</th>\n",
       "      <th>prob_over_5</th>\n",
       "      <th>prob_over_55</th>\n",
       "      <th>prob_over_6</th>\n",
       "      <th>prob_over_65</th>\n",
       "      <th>prob_over_7</th>\n",
       "      <th>prob_over_75</th>\n",
       "      <th>prob_over_8</th>\n",
       "      <th>home_team</th>\n",
       "      <th>away_team</th>\n",
       "      <th>away_win_prob</th>\n",
       "    </tr>\n",
       "  </thead>\n",
       "  <tbody>\n",
       "    <tr>\n",
       "      <th>272</th>\n",
       "      <td>2024020060</td>\n",
       "      <td>John Gibson</td>\n",
       "      <td>Karel Vejmelka</td>\n",
       "      <td>NaN</td>\n",
       "      <td>0.424817</td>\n",
       "      <td>0.613805</td>\n",
       "      <td>0.262720</td>\n",
       "      <td>0.802692</td>\n",
       "      <td>0.653429</td>\n",
       "      <td>0.610906</td>\n",
       "      <td>0.544142</td>\n",
       "      <td>0.427369</td>\n",
       "      <td>0.340218</td>\n",
       "      <td>0.276383</td>\n",
       "      <td>Anaheim Ducks</td>\n",
       "      <td>Utah Hockey Club</td>\n",
       "      <td>0.575183</td>\n",
       "    </tr>\n",
       "    <tr>\n",
       "      <th>273</th>\n",
       "      <td>2024020060</td>\n",
       "      <td>Lukas Dostal</td>\n",
       "      <td>Connor Ingram</td>\n",
       "      <td>NaN</td>\n",
       "      <td>0.435458</td>\n",
       "      <td>0.625195</td>\n",
       "      <td>0.267423</td>\n",
       "      <td>0.778107</td>\n",
       "      <td>0.625561</td>\n",
       "      <td>0.578779</td>\n",
       "      <td>0.514498</td>\n",
       "      <td>0.391357</td>\n",
       "      <td>0.312178</td>\n",
       "      <td>0.249339</td>\n",
       "      <td>Anaheim Ducks</td>\n",
       "      <td>Utah Hockey Club</td>\n",
       "      <td>0.564542</td>\n",
       "    </tr>\n",
       "    <tr>\n",
       "      <th>274</th>\n",
       "      <td>2024020060</td>\n",
       "      <td>Lukas Dostal</td>\n",
       "      <td>Karel Vejmelka</td>\n",
       "      <td>NaN</td>\n",
       "      <td>0.446681</td>\n",
       "      <td>0.634395</td>\n",
       "      <td>0.277042</td>\n",
       "      <td>0.787603</td>\n",
       "      <td>0.635943</td>\n",
       "      <td>0.590744</td>\n",
       "      <td>0.525502</td>\n",
       "      <td>0.404272</td>\n",
       "      <td>0.322003</td>\n",
       "      <td>0.257957</td>\n",
       "      <td>Anaheim Ducks</td>\n",
       "      <td>Utah Hockey Club</td>\n",
       "      <td>0.553319</td>\n",
       "    </tr>\n",
       "    <tr>\n",
       "      <th>275</th>\n",
       "      <td>2024020060</td>\n",
       "      <td>James Reimer</td>\n",
       "      <td>Connor Ingram</td>\n",
       "      <td>NaN</td>\n",
       "      <td>0.425508</td>\n",
       "      <td>0.616111</td>\n",
       "      <td>0.260955</td>\n",
       "      <td>0.786369</td>\n",
       "      <td>0.634609</td>\n",
       "      <td>0.588914</td>\n",
       "      <td>0.523453</td>\n",
       "      <td>0.401829</td>\n",
       "      <td>0.320127</td>\n",
       "      <td>0.256855</td>\n",
       "      <td>Anaheim Ducks</td>\n",
       "      <td>Utah Hockey Club</td>\n",
       "      <td>0.574492</td>\n",
       "    </tr>\n",
       "    <tr>\n",
       "      <th>276</th>\n",
       "      <td>2024020060</td>\n",
       "      <td>James Reimer</td>\n",
       "      <td>Karel Vejmelka</td>\n",
       "      <td>NaN</td>\n",
       "      <td>0.437688</td>\n",
       "      <td>0.625498</td>\n",
       "      <td>0.269801</td>\n",
       "      <td>0.794825</td>\n",
       "      <td>0.643994</td>\n",
       "      <td>0.600052</td>\n",
       "      <td>0.534124</td>\n",
       "      <td>0.414924</td>\n",
       "      <td>0.330390</td>\n",
       "      <td>0.266446</td>\n",
       "      <td>Anaheim Ducks</td>\n",
       "      <td>Utah Hockey Club</td>\n",
       "      <td>0.562312</td>\n",
       "    </tr>\n",
       "  </tbody>\n",
       "</table>\n",
       "</div>"
      ],
      "text/plain": [
       "        game-ID   home_goalie     away_goalie  neutral  home_win_prob  \\\n",
       "272  2024020060   John Gibson  Karel Vejmelka      NaN       0.424817   \n",
       "273  2024020060  Lukas Dostal   Connor Ingram      NaN       0.435458   \n",
       "274  2024020060  Lukas Dostal  Karel Vejmelka      NaN       0.446681   \n",
       "275  2024020060  James Reimer   Connor Ingram      NaN       0.425508   \n",
       "276  2024020060  James Reimer  Karel Vejmelka      NaN       0.437688   \n",
       "\n",
       "     home_lossesless15  home_winsmore15  prob_over_5  prob_over_55  \\\n",
       "272           0.613805         0.262720     0.802692      0.653429   \n",
       "273           0.625195         0.267423     0.778107      0.625561   \n",
       "274           0.634395         0.277042     0.787603      0.635943   \n",
       "275           0.616111         0.260955     0.786369      0.634609   \n",
       "276           0.625498         0.269801     0.794825      0.643994   \n",
       "\n",
       "     prob_over_6  prob_over_65  prob_over_7  prob_over_75  prob_over_8  \\\n",
       "272     0.610906      0.544142     0.427369      0.340218     0.276383   \n",
       "273     0.578779      0.514498     0.391357      0.312178     0.249339   \n",
       "274     0.590744      0.525502     0.404272      0.322003     0.257957   \n",
       "275     0.588914      0.523453     0.401829      0.320127     0.256855   \n",
       "276     0.600052      0.534124     0.414924      0.330390     0.266446   \n",
       "\n",
       "         home_team         away_team  away_win_prob  \n",
       "272  Anaheim Ducks  Utah Hockey Club       0.575183  \n",
       "273  Anaheim Ducks  Utah Hockey Club       0.564542  \n",
       "274  Anaheim Ducks  Utah Hockey Club       0.553319  \n",
       "275  Anaheim Ducks  Utah Hockey Club       0.574492  \n",
       "276  Anaheim Ducks  Utah Hockey Club       0.562312  "
      ]
     },
     "execution_count": 11,
     "metadata": {},
     "output_type": "execute_result"
    }
   ],
   "source": [
    "df_predictions=pd.read_csv(\"predictions_saved.csv\").iloc[:,1:]\n",
    "df_predictions.tail()"
   ]
  },
  {
   "cell_type": "code",
   "execution_count": 12,
   "id": "61610de1-3482-4cb2-aa4a-6aab57a0f3ff",
   "metadata": {},
   "outputs": [],
   "source": [
    "df_market=pd.read_csv(\"price-export-2024.csv\").iloc[:,1:]"
   ]
  },
  {
   "cell_type": "code",
   "execution_count": 17,
   "id": "9ba8d941-ae5b-4db9-96fb-1d34e1f10107",
   "metadata": {},
   "outputs": [
    {
     "data": {
      "text/plain": [
       "Index(['gid_nhl', 'Season Type', 'Neutral', 'Date', 'Away Team', 'Away Score',\n",
       "       'Home Team', 'Home Score', 'map', 'gid_ubiq', 'open_away_ml',\n",
       "       'close_away_ml', 'open_home_ml', 'close_home_ml', 'open_total_line',\n",
       "       'open_total_over', 'open_total_under', 'close_total_line',\n",
       "       'close_total_over', 'close_total_under', 'open_hc_line', 'open_hc_away',\n",
       "       'open_hc_home', 'close_hc_line', 'close_hc_away', 'close_hc_home'],\n",
       "      dtype='object')"
      ]
     },
     "execution_count": 17,
     "metadata": {},
     "output_type": "execute_result"
    }
   ],
   "source": [
    "df_market.columns"
   ]
  },
  {
   "cell_type": "code",
   "execution_count": 15,
   "id": "c3af4531-c6b0-45b6-867a-e117a6de8b4f",
   "metadata": {},
   "outputs": [
    {
     "ename": "KeyError",
     "evalue": "'home_goalie'",
     "output_type": "error",
     "traceback": [
      "\u001b[1;31m---------------------------------------------------------------------------\u001b[0m",
      "\u001b[1;31mKeyError\u001b[0m                                  Traceback (most recent call last)",
      "File \u001b[1;32m~\\anaconda3\\envs\\Bayes_env\\lib\\site-packages\\pandas\\core\\indexes\\base.py:3653\u001b[0m, in \u001b[0;36mIndex.get_loc\u001b[1;34m(self, key)\u001b[0m\n\u001b[0;32m   3652\u001b[0m \u001b[38;5;28;01mtry\u001b[39;00m:\n\u001b[1;32m-> 3653\u001b[0m     \u001b[38;5;28;01mreturn\u001b[39;00m \u001b[38;5;28;43mself\u001b[39;49m\u001b[38;5;241;43m.\u001b[39;49m\u001b[43m_engine\u001b[49m\u001b[38;5;241;43m.\u001b[39;49m\u001b[43mget_loc\u001b[49m\u001b[43m(\u001b[49m\u001b[43mcasted_key\u001b[49m\u001b[43m)\u001b[49m\n\u001b[0;32m   3654\u001b[0m \u001b[38;5;28;01mexcept\u001b[39;00m \u001b[38;5;167;01mKeyError\u001b[39;00m \u001b[38;5;28;01mas\u001b[39;00m err:\n",
      "File \u001b[1;32m~\\anaconda3\\envs\\Bayes_env\\lib\\site-packages\\pandas\\_libs\\index.pyx:147\u001b[0m, in \u001b[0;36mpandas._libs.index.IndexEngine.get_loc\u001b[1;34m()\u001b[0m\n",
      "File \u001b[1;32m~\\anaconda3\\envs\\Bayes_env\\lib\\site-packages\\pandas\\_libs\\index.pyx:176\u001b[0m, in \u001b[0;36mpandas._libs.index.IndexEngine.get_loc\u001b[1;34m()\u001b[0m\n",
      "File \u001b[1;32mpandas\\_libs\\hashtable_class_helper.pxi:7080\u001b[0m, in \u001b[0;36mpandas._libs.hashtable.PyObjectHashTable.get_item\u001b[1;34m()\u001b[0m\n",
      "File \u001b[1;32mpandas\\_libs\\hashtable_class_helper.pxi:7088\u001b[0m, in \u001b[0;36mpandas._libs.hashtable.PyObjectHashTable.get_item\u001b[1;34m()\u001b[0m\n",
      "\u001b[1;31mKeyError\u001b[0m: 'home_goalie'",
      "\nThe above exception was the direct cause of the following exception:\n",
      "\u001b[1;31mKeyError\u001b[0m                                  Traceback (most recent call last)",
      "Input \u001b[1;32mIn [15]\u001b[0m, in \u001b[0;36m<cell line: 4>\u001b[1;34m()\u001b[0m\n\u001b[0;32m      2\u001b[0m df_market[\u001b[38;5;124m'\u001b[39m\u001b[38;5;124mgid_nhl\u001b[39m\u001b[38;5;124m'\u001b[39m] \u001b[38;5;241m=\u001b[39m df_market[\u001b[38;5;124m'\u001b[39m\u001b[38;5;124mgid_nhl\u001b[39m\u001b[38;5;124m'\u001b[39m]\u001b[38;5;241m.\u001b[39mastype(\u001b[38;5;28mstr\u001b[39m)\n\u001b[0;32m      3\u001b[0m df_predictions[\u001b[38;5;124m'\u001b[39m\u001b[38;5;124mhome_goalie\u001b[39m\u001b[38;5;124m'\u001b[39m] \u001b[38;5;241m=\u001b[39m df_predictions[\u001b[38;5;124m'\u001b[39m\u001b[38;5;124mhome_goalie\u001b[39m\u001b[38;5;124m'\u001b[39m]\u001b[38;5;241m.\u001b[39mstr\u001b[38;5;241m.\u001b[39mstrip()\u001b[38;5;241m.\u001b[39mstr\u001b[38;5;241m.\u001b[39mlower()\n\u001b[1;32m----> 4\u001b[0m df_market[\u001b[38;5;124m'\u001b[39m\u001b[38;5;124mhome_goalie\u001b[39m\u001b[38;5;124m'\u001b[39m] \u001b[38;5;241m=\u001b[39m \u001b[43mdf_market\u001b[49m\u001b[43m[\u001b[49m\u001b[38;5;124;43m'\u001b[39;49m\u001b[38;5;124;43mhome_goalie\u001b[39;49m\u001b[38;5;124;43m'\u001b[39;49m\u001b[43m]\u001b[49m\u001b[38;5;241m.\u001b[39mstr\u001b[38;5;241m.\u001b[39mstrip()\u001b[38;5;241m.\u001b[39mstr\u001b[38;5;241m.\u001b[39mlower()\n\u001b[0;32m      6\u001b[0m df_predictions[\u001b[38;5;124m'\u001b[39m\u001b[38;5;124maway_goalie\u001b[39m\u001b[38;5;124m'\u001b[39m] \u001b[38;5;241m=\u001b[39m df_predictions[\u001b[38;5;124m'\u001b[39m\u001b[38;5;124maway_goalie\u001b[39m\u001b[38;5;124m'\u001b[39m]\u001b[38;5;241m.\u001b[39mstr\u001b[38;5;241m.\u001b[39mstrip()\u001b[38;5;241m.\u001b[39mstr\u001b[38;5;241m.\u001b[39mlower()\n\u001b[0;32m      7\u001b[0m df_market[\u001b[38;5;124m'\u001b[39m\u001b[38;5;124maway_goalie\u001b[39m\u001b[38;5;124m'\u001b[39m] \u001b[38;5;241m=\u001b[39m df_market[\u001b[38;5;124m'\u001b[39m\u001b[38;5;124maway_goalie\u001b[39m\u001b[38;5;124m'\u001b[39m]\u001b[38;5;241m.\u001b[39mstr\u001b[38;5;241m.\u001b[39mstrip()\u001b[38;5;241m.\u001b[39mstr\u001b[38;5;241m.\u001b[39mlower()\n",
      "File \u001b[1;32m~\\anaconda3\\envs\\Bayes_env\\lib\\site-packages\\pandas\\core\\frame.py:3761\u001b[0m, in \u001b[0;36mDataFrame.__getitem__\u001b[1;34m(self, key)\u001b[0m\n\u001b[0;32m   3759\u001b[0m \u001b[38;5;28;01mif\u001b[39;00m \u001b[38;5;28mself\u001b[39m\u001b[38;5;241m.\u001b[39mcolumns\u001b[38;5;241m.\u001b[39mnlevels \u001b[38;5;241m>\u001b[39m \u001b[38;5;241m1\u001b[39m:\n\u001b[0;32m   3760\u001b[0m     \u001b[38;5;28;01mreturn\u001b[39;00m \u001b[38;5;28mself\u001b[39m\u001b[38;5;241m.\u001b[39m_getitem_multilevel(key)\n\u001b[1;32m-> 3761\u001b[0m indexer \u001b[38;5;241m=\u001b[39m \u001b[38;5;28;43mself\u001b[39;49m\u001b[38;5;241;43m.\u001b[39;49m\u001b[43mcolumns\u001b[49m\u001b[38;5;241;43m.\u001b[39;49m\u001b[43mget_loc\u001b[49m\u001b[43m(\u001b[49m\u001b[43mkey\u001b[49m\u001b[43m)\u001b[49m\n\u001b[0;32m   3762\u001b[0m \u001b[38;5;28;01mif\u001b[39;00m is_integer(indexer):\n\u001b[0;32m   3763\u001b[0m     indexer \u001b[38;5;241m=\u001b[39m [indexer]\n",
      "File \u001b[1;32m~\\anaconda3\\envs\\Bayes_env\\lib\\site-packages\\pandas\\core\\indexes\\base.py:3655\u001b[0m, in \u001b[0;36mIndex.get_loc\u001b[1;34m(self, key)\u001b[0m\n\u001b[0;32m   3653\u001b[0m     \u001b[38;5;28;01mreturn\u001b[39;00m \u001b[38;5;28mself\u001b[39m\u001b[38;5;241m.\u001b[39m_engine\u001b[38;5;241m.\u001b[39mget_loc(casted_key)\n\u001b[0;32m   3654\u001b[0m \u001b[38;5;28;01mexcept\u001b[39;00m \u001b[38;5;167;01mKeyError\u001b[39;00m \u001b[38;5;28;01mas\u001b[39;00m err:\n\u001b[1;32m-> 3655\u001b[0m     \u001b[38;5;28;01mraise\u001b[39;00m \u001b[38;5;167;01mKeyError\u001b[39;00m(key) \u001b[38;5;28;01mfrom\u001b[39;00m \u001b[38;5;21;01merr\u001b[39;00m\n\u001b[0;32m   3656\u001b[0m \u001b[38;5;28;01mexcept\u001b[39;00m \u001b[38;5;167;01mTypeError\u001b[39;00m:\n\u001b[0;32m   3657\u001b[0m     \u001b[38;5;66;03m# If we have a listlike key, _check_indexing_error will raise\u001b[39;00m\n\u001b[0;32m   3658\u001b[0m     \u001b[38;5;66;03m#  InvalidIndexError. Otherwise we fall through and re-raise\u001b[39;00m\n\u001b[0;32m   3659\u001b[0m     \u001b[38;5;66;03m#  the TypeError.\u001b[39;00m\n\u001b[0;32m   3660\u001b[0m     \u001b[38;5;28mself\u001b[39m\u001b[38;5;241m.\u001b[39m_check_indexing_error(key)\n",
      "\u001b[1;31mKeyError\u001b[0m: 'home_goalie'"
     ]
    }
   ],
   "source": [
    "df_predictions['game-ID'] = df_predictions['game-ID'].astype(str)\n",
    "df_market['gid_nhl'] = df_market['gid_nhl'].astype(str)\n",
    "df_predictions['home_goalie'] = df_predictions['home_goalie'].str.strip().str.lower()\n",
    "df_market['home_goalie'] = df_market['home_goalie'].str.strip().str.lower()\n",
    "\n",
    "df_predictions['away_goalie'] = df_predictions['away_goalie'].str.strip().str.lower()\n",
    "df_market['away_goalie'] = df_market['away_goalie'].str.strip().str.lower()"
   ]
  },
  {
   "cell_type": "code",
   "execution_count": null,
   "id": "8838cf41-3cef-48a5-b7c3-38ec9d426432",
   "metadata": {},
   "outputs": [],
   "source": []
  }
 ],
 "metadata": {
  "kernelspec": {
   "display_name": "Python 3 (ipykernel)",
   "language": "python",
   "name": "python3"
  },
  "language_info": {
   "codemirror_mode": {
    "name": "ipython",
    "version": 3
   },
   "file_extension": ".py",
   "mimetype": "text/x-python",
   "name": "python",
   "nbconvert_exporter": "python",
   "pygments_lexer": "ipython3",
   "version": "3.8.19"
  }
 },
 "nbformat": 4,
 "nbformat_minor": 5
}
